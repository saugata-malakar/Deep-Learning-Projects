{
  "metadata": {
    "kernelspec": {
      "language": "python",
      "display_name": "Python 3",
      "name": "python3"
    },
    "language_info": {
      "name": "python",
      "version": "3.11.11",
      "mimetype": "text/x-python",
      "codemirror_mode": {
        "name": "ipython",
        "version": 3
      },
      "pygments_lexer": "ipython3",
      "nbconvert_exporter": "python",
      "file_extension": ".py"
    },
    "kaggle": {
      "accelerator": "gpu",
      "dataSources": [
        {
          "sourceId": 3004,
          "databundleVersionId": 861823,
          "sourceType": "competition"
        }
      ],
      "dockerImageVersionId": 31011,
      "isInternetEnabled": true,
      "language": "python",
      "sourceType": "notebook",
      "isGpuEnabled": true
    },
    "colab": {
      "name": "MNIST NN from scratch",
      "provenance": [],
      "include_colab_link": true
    },
    "widgets": {
      "application/vnd.jupyter.widget-state+json": {
        "37987cf415b645d5a8bfa164c9854b79": {
          "model_module": "@jupyter-widgets/controls",
          "model_name": "VBoxModel",
          "model_module_version": "1.5.0",
          "state": {
            "_dom_classes": [],
            "_model_module": "@jupyter-widgets/controls",
            "_model_module_version": "1.5.0",
            "_model_name": "VBoxModel",
            "_view_count": null,
            "_view_module": "@jupyter-widgets/controls",
            "_view_module_version": "1.5.0",
            "_view_name": "VBoxView",
            "box_style": "",
            "children": [
              "IPY_MODEL_f6843c4b86144e68bd5fb668e650223d",
              "IPY_MODEL_e8add91873df47a0aa1566f932d65439",
              "IPY_MODEL_e28cbe7d99234f5984e9425e58fc73d0",
              "IPY_MODEL_c9212a43522e4effbf6d7acebcd2576c",
              "IPY_MODEL_6f58ea45d282499b80095a974886a105"
            ],
            "layout": "IPY_MODEL_730656641c484aaeb1ad7e6ac9c2aa21"
          }
        },
        "f6843c4b86144e68bd5fb668e650223d": {
          "model_module": "@jupyter-widgets/controls",
          "model_name": "HTMLModel",
          "model_module_version": "1.5.0",
          "state": {
            "_dom_classes": [],
            "_model_module": "@jupyter-widgets/controls",
            "_model_module_version": "1.5.0",
            "_model_name": "HTMLModel",
            "_view_count": null,
            "_view_module": "@jupyter-widgets/controls",
            "_view_module_version": "1.5.0",
            "_view_name": "HTMLView",
            "description": "",
            "description_tooltip": null,
            "layout": "IPY_MODEL_ecf1edf7bd374883a3e79fc307060ae6",
            "placeholder": "​",
            "style": "IPY_MODEL_5d0c8ee79d8e427680ebf0b4fce0d5ad",
            "value": "<center> <img\nsrc=https://www.kaggle.com/static/images/site-logo.png\nalt='Kaggle'> <br> Create an API token from <a\nhref=\"https://www.kaggle.com/settings/account\" target=\"_blank\">your Kaggle\nsettings page</a> and paste it below along with your Kaggle username. <br> </center>"
          }
        },
        "e8add91873df47a0aa1566f932d65439": {
          "model_module": "@jupyter-widgets/controls",
          "model_name": "TextModel",
          "model_module_version": "1.5.0",
          "state": {
            "_dom_classes": [],
            "_model_module": "@jupyter-widgets/controls",
            "_model_module_version": "1.5.0",
            "_model_name": "TextModel",
            "_view_count": null,
            "_view_module": "@jupyter-widgets/controls",
            "_view_module_version": "1.5.0",
            "_view_name": "TextView",
            "continuous_update": true,
            "description": "Username:",
            "description_tooltip": null,
            "disabled": false,
            "layout": "IPY_MODEL_1a10e4219ce3459a860007658ebaaf88",
            "placeholder": "​",
            "style": "IPY_MODEL_cd62fe2a5b884d53bd8f94e91d1ef2d3",
            "value": ""
          }
        },
        "e28cbe7d99234f5984e9425e58fc73d0": {
          "model_module": "@jupyter-widgets/controls",
          "model_name": "PasswordModel",
          "model_module_version": "1.5.0",
          "state": {
            "_dom_classes": [],
            "_model_module": "@jupyter-widgets/controls",
            "_model_module_version": "1.5.0",
            "_model_name": "PasswordModel",
            "_view_count": null,
            "_view_module": "@jupyter-widgets/controls",
            "_view_module_version": "1.5.0",
            "_view_name": "PasswordView",
            "continuous_update": true,
            "description": "Token:",
            "description_tooltip": null,
            "disabled": false,
            "layout": "IPY_MODEL_5453f5c3d6fe495fb6aedb6b816fc084",
            "placeholder": "​",
            "style": "IPY_MODEL_3c704a07f2844805931719de1ad9345c",
            "value": ""
          }
        },
        "c9212a43522e4effbf6d7acebcd2576c": {
          "model_module": "@jupyter-widgets/controls",
          "model_name": "ButtonModel",
          "model_module_version": "1.5.0",
          "state": {
            "_dom_classes": [],
            "_model_module": "@jupyter-widgets/controls",
            "_model_module_version": "1.5.0",
            "_model_name": "ButtonModel",
            "_view_count": null,
            "_view_module": "@jupyter-widgets/controls",
            "_view_module_version": "1.5.0",
            "_view_name": "ButtonView",
            "button_style": "",
            "description": "Login",
            "disabled": false,
            "icon": "",
            "layout": "IPY_MODEL_e9bbe54a0a97469397d9892bbc7adef1",
            "style": "IPY_MODEL_46bd97d96489402dac5b3720f8a49bc4",
            "tooltip": ""
          }
        },
        "6f58ea45d282499b80095a974886a105": {
          "model_module": "@jupyter-widgets/controls",
          "model_name": "HTMLModel",
          "model_module_version": "1.5.0",
          "state": {
            "_dom_classes": [],
            "_model_module": "@jupyter-widgets/controls",
            "_model_module_version": "1.5.0",
            "_model_name": "HTMLModel",
            "_view_count": null,
            "_view_module": "@jupyter-widgets/controls",
            "_view_module_version": "1.5.0",
            "_view_name": "HTMLView",
            "description": "",
            "description_tooltip": null,
            "layout": "IPY_MODEL_55abeafa30b2448193d83167188502b4",
            "placeholder": "​",
            "style": "IPY_MODEL_5fdcdd6e4d1047dbba36c2321a41559e",
            "value": "\n<b>Thank You</b></center>"
          }
        },
        "730656641c484aaeb1ad7e6ac9c2aa21": {
          "model_module": "@jupyter-widgets/base",
          "model_name": "LayoutModel",
          "model_module_version": "1.2.0",
          "state": {
            "_model_module": "@jupyter-widgets/base",
            "_model_module_version": "1.2.0",
            "_model_name": "LayoutModel",
            "_view_count": null,
            "_view_module": "@jupyter-widgets/base",
            "_view_module_version": "1.2.0",
            "_view_name": "LayoutView",
            "align_content": null,
            "align_items": "center",
            "align_self": null,
            "border": null,
            "bottom": null,
            "display": "flex",
            "flex": null,
            "flex_flow": "column",
            "grid_area": null,
            "grid_auto_columns": null,
            "grid_auto_flow": null,
            "grid_auto_rows": null,
            "grid_column": null,
            "grid_gap": null,
            "grid_row": null,
            "grid_template_areas": null,
            "grid_template_columns": null,
            "grid_template_rows": null,
            "height": null,
            "justify_content": null,
            "justify_items": null,
            "left": null,
            "margin": null,
            "max_height": null,
            "max_width": null,
            "min_height": null,
            "min_width": null,
            "object_fit": null,
            "object_position": null,
            "order": null,
            "overflow": null,
            "overflow_x": null,
            "overflow_y": null,
            "padding": null,
            "right": null,
            "top": null,
            "visibility": null,
            "width": "50%"
          }
        },
        "ecf1edf7bd374883a3e79fc307060ae6": {
          "model_module": "@jupyter-widgets/base",
          "model_name": "LayoutModel",
          "model_module_version": "1.2.0",
          "state": {
            "_model_module": "@jupyter-widgets/base",
            "_model_module_version": "1.2.0",
            "_model_name": "LayoutModel",
            "_view_count": null,
            "_view_module": "@jupyter-widgets/base",
            "_view_module_version": "1.2.0",
            "_view_name": "LayoutView",
            "align_content": null,
            "align_items": null,
            "align_self": null,
            "border": null,
            "bottom": null,
            "display": null,
            "flex": null,
            "flex_flow": null,
            "grid_area": null,
            "grid_auto_columns": null,
            "grid_auto_flow": null,
            "grid_auto_rows": null,
            "grid_column": null,
            "grid_gap": null,
            "grid_row": null,
            "grid_template_areas": null,
            "grid_template_columns": null,
            "grid_template_rows": null,
            "height": null,
            "justify_content": null,
            "justify_items": null,
            "left": null,
            "margin": null,
            "max_height": null,
            "max_width": null,
            "min_height": null,
            "min_width": null,
            "object_fit": null,
            "object_position": null,
            "order": null,
            "overflow": null,
            "overflow_x": null,
            "overflow_y": null,
            "padding": null,
            "right": null,
            "top": null,
            "visibility": null,
            "width": null
          }
        },
        "5d0c8ee79d8e427680ebf0b4fce0d5ad": {
          "model_module": "@jupyter-widgets/controls",
          "model_name": "DescriptionStyleModel",
          "model_module_version": "1.5.0",
          "state": {
            "_model_module": "@jupyter-widgets/controls",
            "_model_module_version": "1.5.0",
            "_model_name": "DescriptionStyleModel",
            "_view_count": null,
            "_view_module": "@jupyter-widgets/base",
            "_view_module_version": "1.2.0",
            "_view_name": "StyleView",
            "description_width": ""
          }
        },
        "1a10e4219ce3459a860007658ebaaf88": {
          "model_module": "@jupyter-widgets/base",
          "model_name": "LayoutModel",
          "model_module_version": "1.2.0",
          "state": {
            "_model_module": "@jupyter-widgets/base",
            "_model_module_version": "1.2.0",
            "_model_name": "LayoutModel",
            "_view_count": null,
            "_view_module": "@jupyter-widgets/base",
            "_view_module_version": "1.2.0",
            "_view_name": "LayoutView",
            "align_content": null,
            "align_items": null,
            "align_self": null,
            "border": null,
            "bottom": null,
            "display": null,
            "flex": null,
            "flex_flow": null,
            "grid_area": null,
            "grid_auto_columns": null,
            "grid_auto_flow": null,
            "grid_auto_rows": null,
            "grid_column": null,
            "grid_gap": null,
            "grid_row": null,
            "grid_template_areas": null,
            "grid_template_columns": null,
            "grid_template_rows": null,
            "height": null,
            "justify_content": null,
            "justify_items": null,
            "left": null,
            "margin": null,
            "max_height": null,
            "max_width": null,
            "min_height": null,
            "min_width": null,
            "object_fit": null,
            "object_position": null,
            "order": null,
            "overflow": null,
            "overflow_x": null,
            "overflow_y": null,
            "padding": null,
            "right": null,
            "top": null,
            "visibility": null,
            "width": null
          }
        },
        "cd62fe2a5b884d53bd8f94e91d1ef2d3": {
          "model_module": "@jupyter-widgets/controls",
          "model_name": "DescriptionStyleModel",
          "model_module_version": "1.5.0",
          "state": {
            "_model_module": "@jupyter-widgets/controls",
            "_model_module_version": "1.5.0",
            "_model_name": "DescriptionStyleModel",
            "_view_count": null,
            "_view_module": "@jupyter-widgets/base",
            "_view_module_version": "1.2.0",
            "_view_name": "StyleView",
            "description_width": ""
          }
        },
        "5453f5c3d6fe495fb6aedb6b816fc084": {
          "model_module": "@jupyter-widgets/base",
          "model_name": "LayoutModel",
          "model_module_version": "1.2.0",
          "state": {
            "_model_module": "@jupyter-widgets/base",
            "_model_module_version": "1.2.0",
            "_model_name": "LayoutModel",
            "_view_count": null,
            "_view_module": "@jupyter-widgets/base",
            "_view_module_version": "1.2.0",
            "_view_name": "LayoutView",
            "align_content": null,
            "align_items": null,
            "align_self": null,
            "border": null,
            "bottom": null,
            "display": null,
            "flex": null,
            "flex_flow": null,
            "grid_area": null,
            "grid_auto_columns": null,
            "grid_auto_flow": null,
            "grid_auto_rows": null,
            "grid_column": null,
            "grid_gap": null,
            "grid_row": null,
            "grid_template_areas": null,
            "grid_template_columns": null,
            "grid_template_rows": null,
            "height": null,
            "justify_content": null,
            "justify_items": null,
            "left": null,
            "margin": null,
            "max_height": null,
            "max_width": null,
            "min_height": null,
            "min_width": null,
            "object_fit": null,
            "object_position": null,
            "order": null,
            "overflow": null,
            "overflow_x": null,
            "overflow_y": null,
            "padding": null,
            "right": null,
            "top": null,
            "visibility": null,
            "width": null
          }
        },
        "3c704a07f2844805931719de1ad9345c": {
          "model_module": "@jupyter-widgets/controls",
          "model_name": "DescriptionStyleModel",
          "model_module_version": "1.5.0",
          "state": {
            "_model_module": "@jupyter-widgets/controls",
            "_model_module_version": "1.5.0",
            "_model_name": "DescriptionStyleModel",
            "_view_count": null,
            "_view_module": "@jupyter-widgets/base",
            "_view_module_version": "1.2.0",
            "_view_name": "StyleView",
            "description_width": ""
          }
        },
        "e9bbe54a0a97469397d9892bbc7adef1": {
          "model_module": "@jupyter-widgets/base",
          "model_name": "LayoutModel",
          "model_module_version": "1.2.0",
          "state": {
            "_model_module": "@jupyter-widgets/base",
            "_model_module_version": "1.2.0",
            "_model_name": "LayoutModel",
            "_view_count": null,
            "_view_module": "@jupyter-widgets/base",
            "_view_module_version": "1.2.0",
            "_view_name": "LayoutView",
            "align_content": null,
            "align_items": null,
            "align_self": null,
            "border": null,
            "bottom": null,
            "display": null,
            "flex": null,
            "flex_flow": null,
            "grid_area": null,
            "grid_auto_columns": null,
            "grid_auto_flow": null,
            "grid_auto_rows": null,
            "grid_column": null,
            "grid_gap": null,
            "grid_row": null,
            "grid_template_areas": null,
            "grid_template_columns": null,
            "grid_template_rows": null,
            "height": null,
            "justify_content": null,
            "justify_items": null,
            "left": null,
            "margin": null,
            "max_height": null,
            "max_width": null,
            "min_height": null,
            "min_width": null,
            "object_fit": null,
            "object_position": null,
            "order": null,
            "overflow": null,
            "overflow_x": null,
            "overflow_y": null,
            "padding": null,
            "right": null,
            "top": null,
            "visibility": null,
            "width": null
          }
        },
        "46bd97d96489402dac5b3720f8a49bc4": {
          "model_module": "@jupyter-widgets/controls",
          "model_name": "ButtonStyleModel",
          "model_module_version": "1.5.0",
          "state": {
            "_model_module": "@jupyter-widgets/controls",
            "_model_module_version": "1.5.0",
            "_model_name": "ButtonStyleModel",
            "_view_count": null,
            "_view_module": "@jupyter-widgets/base",
            "_view_module_version": "1.2.0",
            "_view_name": "StyleView",
            "button_color": null,
            "font_weight": ""
          }
        },
        "55abeafa30b2448193d83167188502b4": {
          "model_module": "@jupyter-widgets/base",
          "model_name": "LayoutModel",
          "model_module_version": "1.2.0",
          "state": {
            "_model_module": "@jupyter-widgets/base",
            "_model_module_version": "1.2.0",
            "_model_name": "LayoutModel",
            "_view_count": null,
            "_view_module": "@jupyter-widgets/base",
            "_view_module_version": "1.2.0",
            "_view_name": "LayoutView",
            "align_content": null,
            "align_items": null,
            "align_self": null,
            "border": null,
            "bottom": null,
            "display": null,
            "flex": null,
            "flex_flow": null,
            "grid_area": null,
            "grid_auto_columns": null,
            "grid_auto_flow": null,
            "grid_auto_rows": null,
            "grid_column": null,
            "grid_gap": null,
            "grid_row": null,
            "grid_template_areas": null,
            "grid_template_columns": null,
            "grid_template_rows": null,
            "height": null,
            "justify_content": null,
            "justify_items": null,
            "left": null,
            "margin": null,
            "max_height": null,
            "max_width": null,
            "min_height": null,
            "min_width": null,
            "object_fit": null,
            "object_position": null,
            "order": null,
            "overflow": null,
            "overflow_x": null,
            "overflow_y": null,
            "padding": null,
            "right": null,
            "top": null,
            "visibility": null,
            "width": null
          }
        },
        "5fdcdd6e4d1047dbba36c2321a41559e": {
          "model_module": "@jupyter-widgets/controls",
          "model_name": "DescriptionStyleModel",
          "model_module_version": "1.5.0",
          "state": {
            "_model_module": "@jupyter-widgets/controls",
            "_model_module_version": "1.5.0",
            "_model_name": "DescriptionStyleModel",
            "_view_count": null,
            "_view_module": "@jupyter-widgets/base",
            "_view_module_version": "1.2.0",
            "_view_name": "StyleView",
            "description_width": ""
          }
        }
      }
    }
  },
  "nbformat_minor": 0,
  "nbformat": 4,
  "cells": [
    {
      "cell_type": "markdown",
      "metadata": {
        "id": "view-in-github",
        "colab_type": "text"
      },
      "source": [
        "<a href=\"https://colab.research.google.com/github/saugata-malakar/Deep-Learning-Projects/blob/main/MNIST_NN_from_scratch.ipynb\" target=\"_parent\"><img src=\"https://colab.research.google.com/assets/colab-badge.svg\" alt=\"Open In Colab\"/></a>"
      ]
    },
    {
      "source": [
        "# IMPORTANT: SOME KAGGLE DATA SOURCES ARE PRIVATE\n",
        "# RUN THIS CELL IN ORDER TO IMPORT YOUR KAGGLE DATA SOURCES.\n",
        "import kagglehub\n",
        "kagglehub.login()\n"
      ],
      "metadata": {
        "id": "V2zQEzAYuaCs",
        "outputId": "4bd2945d-623f-48ea-feaa-590355d55e65",
        "colab": {
          "base_uri": "https://localhost:8080/",
          "height": 273,
          "referenced_widgets": [
            "37987cf415b645d5a8bfa164c9854b79",
            "f6843c4b86144e68bd5fb668e650223d",
            "e8add91873df47a0aa1566f932d65439",
            "e28cbe7d99234f5984e9425e58fc73d0",
            "c9212a43522e4effbf6d7acebcd2576c",
            "6f58ea45d282499b80095a974886a105",
            "730656641c484aaeb1ad7e6ac9c2aa21",
            "ecf1edf7bd374883a3e79fc307060ae6",
            "5d0c8ee79d8e427680ebf0b4fce0d5ad",
            "1a10e4219ce3459a860007658ebaaf88",
            "cd62fe2a5b884d53bd8f94e91d1ef2d3",
            "5453f5c3d6fe495fb6aedb6b816fc084",
            "3c704a07f2844805931719de1ad9345c",
            "e9bbe54a0a97469397d9892bbc7adef1",
            "46bd97d96489402dac5b3720f8a49bc4",
            "55abeafa30b2448193d83167188502b4",
            "5fdcdd6e4d1047dbba36c2321a41559e"
          ]
        }
      },
      "cell_type": "code",
      "outputs": [
        {
          "output_type": "display_data",
          "data": {
            "text/plain": [
              "VBox(children=(HTML(value='<center> <img\\nsrc=https://www.kaggle.com/static/images/site-logo.png\\nalt=\\'Kaggle…"
            ],
            "application/vnd.jupyter.widget-view+json": {
              "version_major": 2,
              "version_minor": 0,
              "model_id": "37987cf415b645d5a8bfa164c9854b79"
            }
          },
          "metadata": {}
        }
      ],
      "execution_count": 1
    },
    {
      "cell_type": "markdown",
      "source": [
        "# **Import Libraries and Load Dataset**"
      ],
      "metadata": {
        "id": "S-bk43FBuaCw"
      }
    },
    {
      "cell_type": "code",
      "source": [
        "import numpy as np\n",
        "import pandas as pd\n",
        "from matplotlib import pyplot as plt\n",
        "\n",
        "data = pd.read_csv('/content/train.csv.zip')"
      ],
      "metadata": {
        "trusted": true,
        "execution": {
          "iopub.status.busy": "2025-05-07T19:50:07.624684Z",
          "iopub.execute_input": "2025-05-07T19:50:07.624907Z",
          "iopub.status.idle": "2025-05-07T19:50:12.554277Z",
          "shell.execute_reply.started": "2025-05-07T19:50:07.624886Z",
          "shell.execute_reply": "2025-05-07T19:50:12.553433Z"
        },
        "id": "De1aXlwHuaCy"
      },
      "outputs": [],
      "execution_count": 5
    },
    {
      "cell_type": "markdown",
      "source": [
        "# **Preprocess Data (Shuffle, Normalize, Split)**"
      ],
      "metadata": {
        "id": "54lfRyrEuaCy"
      }
    },
    {
      "cell_type": "markdown",
      "source": [
        "Shuffling: Ensures a random mix of data before splitting.\n",
        "\n",
        "Normalization: Done by dividing by 255 to convert pixel values from [0, 255] to [0, 1].\n"
      ],
      "metadata": {
        "id": "uo8vRGlYuaCz"
      }
    },
    {
      "cell_type": "code",
      "source": [
        "# Convert the input data to a NumPy array for efficient numerical operations\n",
        "data = np.array(data)\n",
        "m, n = data.shape\n",
        "np.random.shuffle(data) # shuffle before splitting into dev and training sets\n",
        "\n",
        "# Select the first 1000 examples for the development (validation) set\n",
        "data_dev = data[0:1000].T\n",
        "Y_dev = data_dev[0]\n",
        "X_dev = data_dev[1:n]\n",
        "X_dev = X_dev / 255.\n",
        "\n",
        "data_train = data[1000:m].T\n",
        "Y_train = data_train[0]\n",
        "X_train = data_train[1:n]\n",
        "X_train = X_train / 255.\n",
        "_,m_train = X_train.shape"
      ],
      "metadata": {
        "trusted": true,
        "execution": {
          "iopub.status.busy": "2025-05-07T19:50:13.903814Z",
          "iopub.execute_input": "2025-05-07T19:50:13.904319Z",
          "iopub.status.idle": "2025-05-07T19:50:14.573085Z",
          "shell.execute_reply.started": "2025-05-07T19:50:13.904298Z",
          "shell.execute_reply": "2025-05-07T19:50:14.572439Z"
        },
        "id": "ED7yOXBwuaCz"
      },
      "outputs": [],
      "execution_count": 6
    },
    {
      "cell_type": "code",
      "source": [
        "Y_train"
      ],
      "metadata": {
        "trusted": true,
        "execution": {
          "iopub.status.busy": "2025-05-07T19:50:14.792791Z",
          "iopub.execute_input": "2025-05-07T19:50:14.793383Z",
          "iopub.status.idle": "2025-05-07T19:50:14.798834Z",
          "shell.execute_reply.started": "2025-05-07T19:50:14.79335Z",
          "shell.execute_reply": "2025-05-07T19:50:14.798134Z"
        },
        "id": "qgbOiuakuaC0",
        "outputId": "a2331676-6e04-4f05-c855-c513edacbfe1",
        "colab": {
          "base_uri": "https://localhost:8080/"
        }
      },
      "outputs": [
        {
          "output_type": "execute_result",
          "data": {
            "text/plain": [
              "array([5, 3, 8, ..., 7, 7, 8])"
            ]
          },
          "metadata": {},
          "execution_count": 7
        }
      ],
      "execution_count": 7
    },
    {
      "cell_type": "markdown",
      "source": [
        "# **Initialize Neural Network Parameters**\n",
        "\n",
        "Initializes the weights and biases for a simple 2-layer neural network.\n",
        "Network architecture:- Input layer: 784 neurons (28x28 pixels for MNIST)    \n",
        "- Hidden layer: 128 neurons with ReLU activation\n",
        "- Output layer: 10 neurons (for 10 digit classes 0–9)\n",
        "- Returns:        W1 (np.ndarray): Weight matrix for layer 1 of shape (128, 784)\n",
        "  b1 (np.ndarray): Bias vector for layer 1 of shape (128, 1)\n",
        "  W2 (np.ndarray): Weight matrix for layer 2 of shape (10, 128)\n",
        "  b2 (np.ndarray): Bias vector for layer 2 of shape (10, 1)"
      ],
      "metadata": {
        "id": "mgn1H--VuaC0"
      }
    },
    {
      "cell_type": "code",
      "source": [
        "def init_params():\n",
        "    W1 = np.random.randn(128, 784) * 0.01    #it connects the 784 inputs to 128 hidden neurons.\n",
        "    b1 = np.zeros((128, 1))                   #Each neuron has one bias value.\n",
        "    W2 = np.random.randn(10, 128) * 0.01       #it connects the 128 inputs to 10 hidden neurons.\n",
        "    b2 = np.zeros((10, 1))\n",
        "    return W1, b1, W2, b2"
      ],
      "metadata": {
        "trusted": true,
        "execution": {
          "iopub.status.busy": "2025-05-07T19:50:17.862951Z",
          "iopub.execute_input": "2025-05-07T19:50:17.86322Z",
          "iopub.status.idle": "2025-05-07T19:50:17.868076Z",
          "shell.execute_reply.started": "2025-05-07T19:50:17.863202Z",
          "shell.execute_reply": "2025-05-07T19:50:17.867175Z"
        },
        "id": "9uZIhbhHuaC1"
      },
      "outputs": [],
      "execution_count": 8
    },
    {
      "cell_type": "markdown",
      "source": [
        "# **Activation Functions (ReLU, Softmax)**"
      ],
      "metadata": {
        "id": "OWnIePeduaC1"
      }
    },
    {
      "cell_type": "markdown",
      "source": [
        "**ReLU(z)=max(0,z)**\n",
        "\n",
        "Outputs zero for negative inputs → leads to sparse activations, making the model more efficient and less prone to overfitting.\n",
        "\n",
        "Usually used in hidden layers of deep neural networks.\n",
        "\n",
        "**Softmax**\n",
        "used in output layer of classification networks—especially when you have more than two classes (MNIST digits 0–9)."
      ],
      "metadata": {
        "id": "Lz1VXt-8uaC1"
      }
    },
    {
      "cell_type": "code",
      "source": [
        "def ReLU(Z):\n",
        "    return np.maximum(Z, 0)\n",
        "\n",
        "def softmax(Z):\n",
        "    A = np.exp(Z) / sum(np.exp(Z))\n",
        "    return A"
      ],
      "metadata": {
        "trusted": true,
        "execution": {
          "iopub.status.busy": "2025-05-07T19:50:21.198671Z",
          "iopub.execute_input": "2025-05-07T19:50:21.199172Z",
          "iopub.status.idle": "2025-05-07T19:50:21.202706Z",
          "shell.execute_reply.started": "2025-05-07T19:50:21.199149Z",
          "shell.execute_reply": "2025-05-07T19:50:21.202115Z"
        },
        "id": "ZsWRrHbjuaC1"
      },
      "outputs": [],
      "execution_count": 9
    },
    {
      "cell_type": "markdown",
      "source": [
        "# **Forward Propagation**"
      ],
      "metadata": {
        "id": "vEpFbH45uaC2"
      }
    },
    {
      "cell_type": "code",
      "source": [
        "def forward_prop(W1, b1, W2, b2, X):\n",
        "    Z1 = W1.dot(X) + b1                  #wx+b\n",
        "    A1 = ReLU(Z1)\n",
        "    Z2 = W2.dot(A1) + b2                 #wx+b\n",
        "    A2 = softmax(Z2)\n",
        "    return Z1, A1, Z2, A2"
      ],
      "metadata": {
        "trusted": true,
        "execution": {
          "iopub.status.busy": "2025-05-07T19:50:24.646061Z",
          "iopub.execute_input": "2025-05-07T19:50:24.646817Z",
          "iopub.status.idle": "2025-05-07T19:50:24.650717Z",
          "shell.execute_reply.started": "2025-05-07T19:50:24.646788Z",
          "shell.execute_reply": "2025-05-07T19:50:24.650044Z"
        },
        "id": "cKKe3AGiuaC2"
      },
      "outputs": [],
      "execution_count": 10
    },
    {
      "cell_type": "markdown",
      "source": [
        "# **Backward Propagation**"
      ],
      "metadata": {
        "id": "IThvDyV1uaC2"
      }
    },
    {
      "cell_type": "code",
      "source": [
        "def ReLU_deriv(Z):\n",
        "    return Z > 0\n",
        "\n",
        "#Converts label vector Y into a one-hot encoded matrix\n",
        "def one_hot(Y):\n",
        "    one_hot_Y = np.zeros((Y.size, Y.max() + 1))\n",
        "    one_hot_Y[np.arange(Y.size), Y] = 1\n",
        "    one_hot_Y = one_hot_Y.T\n",
        "    return one_hot_Y\n",
        "\n",
        "def backward_prop(Z1, A1, Z2, A2, W1, W2, X, Y):\n",
        "    one_hot_Y = one_hot(Y)\n",
        "    dZ2 = A2 - one_hot_Y\n",
        "    dW2 = 1 / m * dZ2.dot(A1.T)\n",
        "    db2 = 1 / m * np.sum(dZ2, axis=1, keepdims=True)\n",
        "    dZ1 = W2.T.dot(dZ2) * ReLU_deriv(Z1)\n",
        "    dW1 = 1 / m * dZ1.dot(X.T)\n",
        "    db1 = 1 / m * np.sum(dZ1, axis=1, keepdims=True)\n",
        "    return dW1, db1, dW2, db2"
      ],
      "metadata": {
        "trusted": true,
        "execution": {
          "iopub.status.busy": "2025-05-07T19:50:26.509664Z",
          "iopub.execute_input": "2025-05-07T19:50:26.509944Z",
          "iopub.status.idle": "2025-05-07T19:50:26.51604Z",
          "shell.execute_reply.started": "2025-05-07T19:50:26.509925Z",
          "shell.execute_reply": "2025-05-07T19:50:26.515277Z"
        },
        "id": "YPYwTe_8uaC2"
      },
      "outputs": [],
      "execution_count": 11
    },
    {
      "cell_type": "markdown",
      "source": [
        "# **Parameter Update Function**"
      ],
      "metadata": {
        "id": "ZTGYSswBuaC2"
      }
    },
    {
      "cell_type": "code",
      "source": [
        "def update_params(W1, b1, W2, b2, dW1, db1, dW2, db2, alpha):\n",
        "    W1 = W1 - alpha * dW1\n",
        "    b1 = b1 - alpha * db1\n",
        "    W2 = W2 - alpha * dW2\n",
        "    b2 = b2 - alpha * db2\n",
        "    return W1, b1, W2, b2"
      ],
      "metadata": {
        "trusted": true,
        "execution": {
          "iopub.status.busy": "2025-05-07T19:50:29.219835Z",
          "iopub.execute_input": "2025-05-07T19:50:29.220117Z",
          "iopub.status.idle": "2025-05-07T19:50:29.224171Z",
          "shell.execute_reply.started": "2025-05-07T19:50:29.220093Z",
          "shell.execute_reply": "2025-05-07T19:50:29.223501Z"
        },
        "id": "5Hq5EJ8suaC2"
      },
      "outputs": [],
      "execution_count": 12
    },
    {
      "cell_type": "markdown",
      "source": [
        "# **(Accuracy, Prediction)**"
      ],
      "metadata": {
        "id": "nHdyXJnjuaC2"
      }
    },
    {
      "cell_type": "code",
      "source": [
        "def get_predictions(A2):\n",
        "    return np.argmax(A2, 0)\n",
        "\n",
        "def get_accuracy(predictions, Y):\n",
        "    print(predictions, Y)\n",
        "    return np.sum(predictions == Y) / Y.size\n",
        "\n",
        "#Compute gradients via backpropagation\n",
        "def gradient_descent(X, Y, alpha, iterations):\n",
        "    W1, b1, W2, b2 = init_params()\n",
        "    for i in range(iterations):\n",
        "        Z1, A1, Z2, A2 = forward_prop(W1, b1, W2, b2, X)\n",
        "        dW1, db1, dW2, db2 = backward_prop(Z1, A1, Z2, A2, W1, W2, X, Y)\n",
        "        W1, b1, W2, b2 = update_params(W1, b1, W2, b2, dW1, db1, dW2, db2, alpha)\n",
        "        if i % 10 == 0:\n",
        "            print(\"Iteration: \", i)\n",
        "            predictions = get_predictions(A2)\n",
        "            print(get_accuracy(predictions, Y))\n",
        "    return W1, b1, W2, b2"
      ],
      "metadata": {
        "trusted": true,
        "execution": {
          "iopub.status.busy": "2025-05-07T19:50:31.099184Z",
          "iopub.execute_input": "2025-05-07T19:50:31.099833Z",
          "iopub.status.idle": "2025-05-07T19:50:31.107231Z",
          "shell.execute_reply.started": "2025-05-07T19:50:31.099804Z",
          "shell.execute_reply": "2025-05-07T19:50:31.106451Z"
        },
        "id": "UQ29fAlduaC3"
      },
      "outputs": [],
      "execution_count": 13
    },
    {
      "cell_type": "code",
      "source": [
        "#Update weights and biases using gradients\n",
        "W1, b1, W2, b2 = gradient_descent(X_train, Y_train, 0.10, 550)"
      ],
      "metadata": {
        "trusted": true,
        "execution": {
          "iopub.status.busy": "2025-05-07T19:50:55.614063Z",
          "iopub.execute_input": "2025-05-07T19:50:55.614602Z",
          "iopub.status.idle": "2025-05-07T19:53:16.757239Z",
          "shell.execute_reply.started": "2025-05-07T19:50:55.614579Z",
          "shell.execute_reply": "2025-05-07T19:53:16.756459Z"
        },
        "id": "lysGf13puaC3"
      },
      "outputs": [],
      "execution_count": null
    },
    {
      "cell_type": "code",
      "source": [
        "def make_predictions(X, W1, b1, W2, b2):\n",
        "    _, _, _, A2 = forward_prop(W1, b1, W2, b2, X)\n",
        "    predictions = get_predictions(A2)\n",
        "    return predictions\n",
        "\n",
        "def test_prediction(index, W1, b1, W2, b2):\n",
        "    current_image = X_train[:, index, None]\n",
        "    prediction = make_predictions(X_train[:, index, None], W1, b1, W2, b2)\n",
        "    label = Y_train[index]\n",
        "    print(\"Prediction: \", prediction)\n",
        "    print(\"Label: \", label)\n",
        "\n",
        "    current_image = current_image.reshape((28, 28)) * 255\n",
        "    plt.gray()\n",
        "    plt.imshow(current_image, interpolation='nearest')\n",
        "    plt.show()"
      ],
      "metadata": {
        "trusted": true,
        "execution": {
          "iopub.status.busy": "2025-05-07T19:55:27.87315Z",
          "iopub.execute_input": "2025-05-07T19:55:27.873398Z",
          "iopub.status.idle": "2025-05-07T19:55:27.878258Z",
          "shell.execute_reply.started": "2025-05-07T19:55:27.87338Z",
          "shell.execute_reply": "2025-05-07T19:55:27.877649Z"
        },
        "id": "P94OeNe0uaC3"
      },
      "outputs": [],
      "execution_count": 14
    },
    {
      "cell_type": "markdown",
      "source": [
        "# **Add the SGD Optimizer**"
      ],
      "metadata": {
        "id": "hv0LrsV4uaC3"
      }
    },
    {
      "cell_type": "markdown",
      "source": [
        "(Stochastic Gradient Descent)\n",
        "Type: First-order optimization algorithm\n",
        "\n",
        "Update Rule: Uses only current gradient to update weights\n",
        "Learning Rate: Fixed\n",
        "\n",
        "Speed of Convergence: Slower, especially with sparse data or noisy gradients\n",
        "Best For: Simpler problems or when memory usage is critical\n",
        "Generalization: Often better generalization (avoids overfitting)\n",
        "Implementation Simplicity: Very simple to implement\n",
        "\n",
        "Mathematical Update:\t**𝜃=𝜃−𝜂⋅∇𝜃𝐽(𝜃)**\n"
      ],
      "metadata": {
        "id": "5Kc4iZ73uaC3"
      }
    },
    {
      "cell_type": "code",
      "source": [
        "# Implementing SGD Optimizer\n",
        "def sgd_optimizer(X, Y, alpha, iterations):\n",
        "    W1, b1, W2, b2 = init_params()\n",
        "    for i in range(iterations):\n",
        "        Z1, A1, Z2, A2 = forward_prop(W1, b1, W2, b2, X)\n",
        "        dW1, db1, dW2, db2 = backward_prop(Z1, A1, Z2, A2, W1, W2, X, Y)\n",
        "        W1, b1, W2, b2 = update_params(W1, b1, W2, b2, dW1, db1, dW2, db2, alpha)\n",
        "        if i % 10 == 0:\n",
        "            predictions = get_predictions(A2)\n",
        "            print(f\"SGD Iteration {i}, Accuracy: {get_accuracy(predictions, Y)}\")\n",
        "    return W1, b1, W2, b2"
      ],
      "metadata": {
        "trusted": true,
        "execution": {
          "iopub.status.busy": "2025-05-07T19:55:30.72491Z",
          "iopub.execute_input": "2025-05-07T19:55:30.725784Z",
          "iopub.status.idle": "2025-05-07T19:55:30.730626Z",
          "shell.execute_reply.started": "2025-05-07T19:55:30.725757Z",
          "shell.execute_reply": "2025-05-07T19:55:30.729898Z"
        },
        "id": "F1wk4EC4uaC3"
      },
      "outputs": [],
      "execution_count": 15
    },
    {
      "cell_type": "code",
      "source": [
        "# Train with SGD\n",
        "print(\"Training with SGD...\")\n",
        "W1_sgd, b1_sgd, W2_sgd, b2_sgd = sgd_optimizer(X_train, Y_train, 0.1, 550)"
      ],
      "metadata": {
        "trusted": true,
        "execution": {
          "iopub.status.busy": "2025-05-07T19:55:32.547561Z",
          "iopub.execute_input": "2025-05-07T19:55:32.548046Z",
          "iopub.status.idle": "2025-05-07T19:57:54.22386Z",
          "shell.execute_reply.started": "2025-05-07T19:55:32.548023Z",
          "shell.execute_reply": "2025-05-07T19:57:54.223271Z"
        },
        "id": "7C876hnzuaC3",
        "outputId": "0c7ef925-0818-4b1d-82b5-8a2b9ec8cc74",
        "colab": {
          "base_uri": "https://localhost:8080/"
        }
      },
      "outputs": [
        {
          "output_type": "stream",
          "name": "stdout",
          "text": [
            "Training with SGD...\n",
            "[0 9 1 ... 7 9 9] [5 3 8 ... 7 7 8]\n",
            "SGD Iteration 0, Accuracy: 0.09365853658536585\n",
            "[0 3 9 ... 7 9 1] [5 3 8 ... 7 7 8]\n",
            "SGD Iteration 10, Accuracy: 0.42517073170731706\n",
            "[0 3 9 ... 7 7 1] [5 3 8 ... 7 7 8]\n",
            "SGD Iteration 20, Accuracy: 0.5202682926829268\n",
            "[0 3 9 ... 7 0 1] [5 3 8 ... 7 7 8]\n",
            "SGD Iteration 30, Accuracy: 0.5299268292682927\n",
            "[0 3 9 ... 7 0 1] [5 3 8 ... 7 7 8]\n",
            "SGD Iteration 40, Accuracy: 0.5267073170731708\n",
            "[3 3 9 ... 7 7 1] [5 3 8 ... 7 7 8]\n",
            "SGD Iteration 50, Accuracy: 0.5703170731707317\n",
            "[3 3 9 ... 7 7 1] [5 3 8 ... 7 7 8]\n",
            "SGD Iteration 60, Accuracy: 0.6450487804878049\n",
            "[3 3 8 ... 7 7 1] [5 3 8 ... 7 7 8]\n",
            "SGD Iteration 70, Accuracy: 0.6898048780487804\n",
            "[3 3 8 ... 7 7 1] [5 3 8 ... 7 7 8]\n",
            "SGD Iteration 80, Accuracy: 0.7164146341463414\n",
            "[3 3 8 ... 7 7 1] [5 3 8 ... 7 7 8]\n",
            "SGD Iteration 90, Accuracy: 0.7495121951219512\n",
            "[3 3 8 ... 7 7 1] [5 3 8 ... 7 7 8]\n",
            "SGD Iteration 100, Accuracy: 0.7759512195121951\n",
            "[3 3 8 ... 7 7 1] [5 3 8 ... 7 7 8]\n",
            "SGD Iteration 110, Accuracy: 0.7971463414634147\n",
            "[3 3 8 ... 7 7 1] [5 3 8 ... 7 7 8]\n",
            "SGD Iteration 120, Accuracy: 0.8127560975609756\n",
            "[8 3 8 ... 7 7 1] [5 3 8 ... 7 7 8]\n",
            "SGD Iteration 130, Accuracy: 0.8244634146341463\n",
            "[8 3 8 ... 7 7 1] [5 3 8 ... 7 7 8]\n",
            "SGD Iteration 140, Accuracy: 0.8342926829268292\n",
            "[8 3 8 ... 7 7 1] [5 3 8 ... 7 7 8]\n",
            "SGD Iteration 150, Accuracy: 0.8424390243902439\n",
            "[8 3 8 ... 7 7 1] [5 3 8 ... 7 7 8]\n",
            "SGD Iteration 160, Accuracy: 0.8495609756097561\n",
            "[8 3 8 ... 7 7 1] [5 3 8 ... 7 7 8]\n",
            "SGD Iteration 170, Accuracy: 0.8555365853658536\n",
            "[8 3 8 ... 7 7 1] [5 3 8 ... 7 7 8]\n",
            "SGD Iteration 180, Accuracy: 0.8608048780487805\n",
            "[8 3 8 ... 7 7 1] [5 3 8 ... 7 7 8]\n",
            "SGD Iteration 190, Accuracy: 0.864609756097561\n",
            "[8 3 8 ... 7 7 1] [5 3 8 ... 7 7 8]\n",
            "SGD Iteration 200, Accuracy: 0.868780487804878\n",
            "[8 3 8 ... 7 7 1] [5 3 8 ... 7 7 8]\n",
            "SGD Iteration 210, Accuracy: 0.8723170731707317\n",
            "[8 3 8 ... 7 7 1] [5 3 8 ... 7 7 8]\n",
            "SGD Iteration 220, Accuracy: 0.8753414634146341\n",
            "[8 3 8 ... 7 7 1] [5 3 8 ... 7 7 8]\n",
            "SGD Iteration 230, Accuracy: 0.8779756097560976\n",
            "[8 3 8 ... 7 7 1] [5 3 8 ... 7 7 8]\n",
            "SGD Iteration 240, Accuracy: 0.8800487804878049\n",
            "[8 3 8 ... 7 7 1] [5 3 8 ... 7 7 8]\n",
            "SGD Iteration 250, Accuracy: 0.8817073170731707\n",
            "[8 3 8 ... 7 7 1] [5 3 8 ... 7 7 8]\n",
            "SGD Iteration 260, Accuracy: 0.8834390243902439\n",
            "[8 3 8 ... 7 7 1] [5 3 8 ... 7 7 8]\n",
            "SGD Iteration 270, Accuracy: 0.8851219512195122\n",
            "[8 3 8 ... 7 7 1] [5 3 8 ... 7 7 8]\n",
            "SGD Iteration 280, Accuracy: 0.8871707317073171\n",
            "[8 3 8 ... 7 7 1] [5 3 8 ... 7 7 8]\n",
            "SGD Iteration 290, Accuracy: 0.8882439024390244\n",
            "[8 3 8 ... 7 7 1] [5 3 8 ... 7 7 8]\n",
            "SGD Iteration 300, Accuracy: 0.8894878048780488\n",
            "[8 3 8 ... 7 7 1] [5 3 8 ... 7 7 8]\n",
            "SGD Iteration 310, Accuracy: 0.8908292682926829\n",
            "[8 3 8 ... 7 7 1] [5 3 8 ... 7 7 8]\n",
            "SGD Iteration 320, Accuracy: 0.8921219512195122\n",
            "[8 3 8 ... 7 7 1] [5 3 8 ... 7 7 8]\n",
            "SGD Iteration 330, Accuracy: 0.8934390243902439\n",
            "[8 3 8 ... 7 7 1] [5 3 8 ... 7 7 8]\n",
            "SGD Iteration 340, Accuracy: 0.8944634146341464\n",
            "[8 3 8 ... 7 7 1] [5 3 8 ... 7 7 8]\n",
            "SGD Iteration 350, Accuracy: 0.895390243902439\n",
            "[8 3 8 ... 7 7 1] [5 3 8 ... 7 7 8]\n",
            "SGD Iteration 360, Accuracy: 0.8964634146341464\n",
            "[8 3 8 ... 7 7 1] [5 3 8 ... 7 7 8]\n",
            "SGD Iteration 370, Accuracy: 0.8971951219512195\n",
            "[8 3 8 ... 7 7 1] [5 3 8 ... 7 7 8]\n",
            "SGD Iteration 380, Accuracy: 0.8979024390243903\n",
            "[8 3 8 ... 7 7 1] [5 3 8 ... 7 7 8]\n",
            "SGD Iteration 390, Accuracy: 0.899219512195122\n",
            "[8 3 8 ... 7 7 1] [5 3 8 ... 7 7 8]\n",
            "SGD Iteration 400, Accuracy: 0.8998536585365854\n",
            "[8 3 8 ... 7 7 1] [5 3 8 ... 7 7 8]\n",
            "SGD Iteration 410, Accuracy: 0.9005121951219512\n",
            "[8 3 8 ... 7 7 1] [5 3 8 ... 7 7 8]\n",
            "SGD Iteration 420, Accuracy: 0.9011951219512195\n",
            "[8 3 8 ... 7 7 1] [5 3 8 ... 7 7 8]\n",
            "SGD Iteration 430, Accuracy: 0.9019268292682927\n",
            "[8 3 8 ... 7 7 1] [5 3 8 ... 7 7 8]\n",
            "SGD Iteration 440, Accuracy: 0.9025365853658537\n",
            "[8 3 8 ... 7 7 1] [5 3 8 ... 7 7 8]\n",
            "SGD Iteration 450, Accuracy: 0.9031707317073171\n",
            "[8 3 8 ... 7 7 1] [5 3 8 ... 7 7 8]\n",
            "SGD Iteration 460, Accuracy: 0.9041219512195122\n",
            "[8 3 8 ... 7 7 1] [5 3 8 ... 7 7 8]\n",
            "SGD Iteration 470, Accuracy: 0.9046829268292683\n",
            "[8 3 8 ... 7 7 1] [5 3 8 ... 7 7 8]\n",
            "SGD Iteration 480, Accuracy: 0.9050975609756098\n",
            "[8 3 8 ... 7 7 1] [5 3 8 ... 7 7 8]\n",
            "SGD Iteration 490, Accuracy: 0.9056341463414634\n",
            "[8 3 8 ... 7 7 1] [5 3 8 ... 7 7 8]\n",
            "SGD Iteration 500, Accuracy: 0.9062682926829269\n",
            "[8 3 8 ... 7 7 1] [5 3 8 ... 7 7 8]\n",
            "SGD Iteration 510, Accuracy: 0.9070243902439025\n",
            "[8 3 8 ... 7 7 8] [5 3 8 ... 7 7 8]\n",
            "SGD Iteration 520, Accuracy: 0.9074146341463415\n",
            "[8 3 8 ... 7 7 8] [5 3 8 ... 7 7 8]\n",
            "SGD Iteration 530, Accuracy: 0.9081219512195122\n",
            "[8 3 8 ... 7 7 8] [5 3 8 ... 7 7 8]\n",
            "SGD Iteration 540, Accuracy: 0.9086585365853659\n"
          ]
        }
      ],
      "execution_count": 16
    },
    {
      "cell_type": "markdown",
      "source": [
        "# **Add the Adam Optimizer**"
      ],
      "metadata": {
        "id": "BmoCU0CruaC4"
      }
    },
    {
      "cell_type": "markdown",
      "source": [
        "(Adaptive Moment Estimation)\n",
        "\n",
        "Type: First-order optimization with adaptive learning rate and momentum\n",
        "Update Rule: Uses moving averages of both gradient (momentum) and squared gradient\n",
        "Learning Rate: Adaptive per-parameter learning rates\n",
        "\n",
        "Speed of Convergence: Faster convergence in many cases, especially with sparse gradients\n",
        "Memory Usage: Higher stores additional first and second moment vectors\n",
        "Best For: Most deep learning applications, including NLP, vision, etc.\n",
        "Generalization: Can lead to overfitting or poor generalization without regularization\n",
        "\n",
        "Common Hyperparameters:\n",
        "- Learning rate (lr)\n",
        "- β₁ (momentum)\n",
        "- β₂ (RMS)\n",
        "- ε (stability)"
      ],
      "metadata": {
        "id": "FKe_h60XuaC4"
      }
    },
    {
      "cell_type": "markdown",
      "source": [
        "![](https://example.com/path/to/your/image.png)"
      ],
      "metadata": {
        "id": "c9IMckHVuaC4"
      }
    },
    {
      "cell_type": "code",
      "source": [
        "def adam_optimizer(X, Y, alpha=0.001, beta1=0.9, beta2=0.999, epsilon=1e-8, iterations=550):\n",
        "    W1, b1, W2, b2 = init_params()\n",
        "\n",
        "    mW1 = np.zeros_like(W1)\n",
        "    mb1 = np.zeros_like(b1)\n",
        "    mW2 = np.zeros_like(W2)\n",
        "    mb2 = np.zeros_like(b2)\n",
        "\n",
        "    vW1 = np.zeros_like(W1)\n",
        "    vb1 = np.zeros_like(b1)\n",
        "    vW2 = np.zeros_like(W2)\n",
        "    vb2 = np.zeros_like(b2)\n",
        "\n",
        "    t = 0\n",
        "\n",
        "    for i in range(iterations):\n",
        "        t += 1\n",
        "        Z1, A1, Z2, A2 = forward_prop(W1, b1, W2, b2, X)\n",
        "        dW1, db1, dW2, db2 = backward_prop(Z1, A1, Z2, A2, W1, W2, X, Y)\n",
        "\n",
        "        # Momentum update\n",
        "        mW1 = beta1 * mW1 + (1 - beta1) * dW1\n",
        "        mb1 = beta1 * mb1 + (1 - beta1) * db1\n",
        "        mW2 = beta1 * mW2 + (1 - beta1) * dW2\n",
        "        mb2 = beta1 * mb2 + (1 - beta1) * db2\n",
        "\n",
        "        # RMSprop update\n",
        "        vW1 = beta2 * vW1 + (1 - beta2) * (dW1 ** 2)\n",
        "        vb1 = beta2 * vb1 + (1 - beta2) * (db1 ** 2)\n",
        "        vW2 = beta2 * vW2 + (1 - beta2) * (dW2 ** 2)\n",
        "        vb2 = beta2 * vb2 + (1 - beta2) * (db2 ** 2)\n",
        "\n",
        "        # Bias correction\n",
        "        mW1_hat = mW1 / (1 - beta1 ** t)\n",
        "        mb1_hat = mb1 / (1 - beta1 ** t)\n",
        "        mW2_hat = mW2 / (1 - beta1 ** t)\n",
        "        mb2_hat = mb2 / (1 - beta1 ** t)\n",
        "\n",
        "        vW1_hat = vW1 / (1 - beta2 ** t)\n",
        "        vb1_hat = vb1 / (1 - beta2 ** t)\n",
        "        vW2_hat = vW2 / (1 - beta2 ** t)\n",
        "        vb2_hat = vb2 / (1 - beta2 ** t)\n",
        "\n",
        "        # Parameter update (use assignment to avoid dtype errors)\n",
        "        W1 = W1 - alpha * mW1_hat / (np.sqrt(vW1_hat) + epsilon)\n",
        "        b1 = b1 - alpha * mb1_hat / (np.sqrt(vb1_hat) + epsilon)\n",
        "        W2 = W2 - alpha * mW2_hat / (np.sqrt(vW2_hat) + epsilon)\n",
        "        b2 = b2 - alpha * mb2_hat / (np.sqrt(vb2_hat) + epsilon)\n",
        "\n",
        "        if i % 10 == 0:\n",
        "            predictions = get_predictions(A2)\n",
        "            acc = get_accuracy(predictions, Y)\n",
        "            print(f\"Adam Iteration {i}, Accuracy: {acc:.4f}\")\n",
        "\n",
        "    return W1, b1, W2, b2"
      ],
      "metadata": {
        "trusted": true,
        "execution": {
          "iopub.status.busy": "2025-05-07T19:58:00.19681Z",
          "iopub.execute_input": "2025-05-07T19:58:00.197335Z",
          "iopub.status.idle": "2025-05-07T19:58:00.205825Z",
          "shell.execute_reply.started": "2025-05-07T19:58:00.197314Z",
          "shell.execute_reply": "2025-05-07T19:58:00.205227Z"
        },
        "id": "P082nKcJuaC4"
      },
      "outputs": [],
      "execution_count": 17
    },
    {
      "cell_type": "code",
      "source": [
        "print(\"Training with Adam...\")\n",
        "W1_adam, b1_adam, W2_adam, b2_adam = adam_optimizer(X_train, Y_train, alpha=0.001, iterations=520)"
      ],
      "metadata": {
        "trusted": true,
        "execution": {
          "iopub.status.busy": "2025-05-07T20:00:30.859275Z",
          "iopub.execute_input": "2025-05-07T20:00:30.859933Z",
          "iopub.status.idle": "2025-05-07T20:02:43.131281Z",
          "shell.execute_reply.started": "2025-05-07T20:00:30.859909Z",
          "shell.execute_reply": "2025-05-07T20:02:43.130672Z"
        },
        "id": "YdMuU-3fuaC4",
        "outputId": "e29f883c-670c-4566-85d1-c444dd9072a9",
        "colab": {
          "base_uri": "https://localhost:8080/"
        }
      },
      "outputs": [
        {
          "output_type": "stream",
          "name": "stdout",
          "text": [
            "Training with Adam...\n",
            "[7 6 1 ... 8 7 7] [5 3 8 ... 7 7 8]\n",
            "Adam Iteration 0, Accuracy: 0.1005\n",
            "[8 3 8 ... 7 7 8] [5 3 8 ... 7 7 8]\n",
            "Adam Iteration 10, Accuracy: 0.6438\n",
            "[8 3 8 ... 7 7 1] [5 3 8 ... 7 7 8]\n",
            "Adam Iteration 20, Accuracy: 0.7380\n",
            "[8 3 8 ... 7 7 1] [5 3 8 ... 7 7 8]\n",
            "Adam Iteration 30, Accuracy: 0.8166\n",
            "[8 3 8 ... 7 7 1] [5 3 8 ... 7 7 8]\n",
            "Adam Iteration 40, Accuracy: 0.8412\n",
            "[8 3 8 ... 7 7 1] [5 3 8 ... 7 7 8]\n",
            "Adam Iteration 50, Accuracy: 0.8663\n",
            "[8 3 8 ... 7 7 1] [5 3 8 ... 7 7 8]\n",
            "Adam Iteration 60, Accuracy: 0.8835\n",
            "[8 3 8 ... 7 7 1] [5 3 8 ... 7 7 8]\n",
            "Adam Iteration 70, Accuracy: 0.8964\n",
            "[8 3 8 ... 7 7 1] [5 3 8 ... 7 7 8]\n",
            "Adam Iteration 80, Accuracy: 0.9040\n",
            "[8 3 8 ... 7 7 1] [5 3 8 ... 7 7 8]\n",
            "Adam Iteration 90, Accuracy: 0.9098\n",
            "[8 3 8 ... 7 7 1] [5 3 8 ... 7 7 8]\n",
            "Adam Iteration 100, Accuracy: 0.9143\n",
            "[8 3 8 ... 7 7 1] [5 3 8 ... 7 7 8]\n",
            "Adam Iteration 110, Accuracy: 0.9185\n",
            "[8 3 8 ... 7 7 8] [5 3 8 ... 7 7 8]\n",
            "Adam Iteration 120, Accuracy: 0.9220\n",
            "[8 3 8 ... 7 7 8] [5 3 8 ... 7 7 8]\n",
            "Adam Iteration 130, Accuracy: 0.9252\n",
            "[8 3 8 ... 7 7 8] [5 3 8 ... 7 7 8]\n",
            "Adam Iteration 140, Accuracy: 0.9280\n",
            "[8 3 8 ... 7 7 8] [5 3 8 ... 7 7 8]\n",
            "Adam Iteration 150, Accuracy: 0.9313\n",
            "[8 3 8 ... 7 7 8] [5 3 8 ... 7 7 8]\n",
            "Adam Iteration 160, Accuracy: 0.9340\n",
            "[8 3 8 ... 7 7 8] [5 3 8 ... 7 7 8]\n",
            "Adam Iteration 170, Accuracy: 0.9364\n",
            "[5 3 8 ... 7 7 8] [5 3 8 ... 7 7 8]\n",
            "Adam Iteration 180, Accuracy: 0.9387\n",
            "[5 3 8 ... 7 7 8] [5 3 8 ... 7 7 8]\n",
            "Adam Iteration 190, Accuracy: 0.9410\n",
            "[5 3 8 ... 7 7 8] [5 3 8 ... 7 7 8]\n",
            "Adam Iteration 200, Accuracy: 0.9434\n",
            "[5 3 8 ... 7 7 8] [5 3 8 ... 7 7 8]\n",
            "Adam Iteration 210, Accuracy: 0.9450\n",
            "[5 3 8 ... 7 7 8] [5 3 8 ... 7 7 8]\n",
            "Adam Iteration 220, Accuracy: 0.9470\n",
            "[5 3 8 ... 7 7 8] [5 3 8 ... 7 7 8]\n",
            "Adam Iteration 230, Accuracy: 0.9492\n",
            "[5 3 8 ... 7 7 8] [5 3 8 ... 7 7 8]\n",
            "Adam Iteration 240, Accuracy: 0.9512\n",
            "[5 3 8 ... 7 7 8] [5 3 8 ... 7 7 8]\n",
            "Adam Iteration 250, Accuracy: 0.9531\n",
            "[5 3 8 ... 7 7 8] [5 3 8 ... 7 7 8]\n",
            "Adam Iteration 260, Accuracy: 0.9549\n",
            "[5 3 8 ... 7 7 8] [5 3 8 ... 7 7 8]\n",
            "Adam Iteration 270, Accuracy: 0.9563\n",
            "[5 3 8 ... 7 7 8] [5 3 8 ... 7 7 8]\n",
            "Adam Iteration 280, Accuracy: 0.9579\n",
            "[5 3 8 ... 7 7 8] [5 3 8 ... 7 7 8]\n",
            "Adam Iteration 290, Accuracy: 0.9593\n",
            "[5 3 8 ... 7 7 8] [5 3 8 ... 7 7 8]\n",
            "Adam Iteration 300, Accuracy: 0.9606\n",
            "[5 3 8 ... 7 7 8] [5 3 8 ... 7 7 8]\n",
            "Adam Iteration 310, Accuracy: 0.9619\n",
            "[5 3 8 ... 7 7 8] [5 3 8 ... 7 7 8]\n",
            "Adam Iteration 320, Accuracy: 0.9632\n",
            "[5 3 8 ... 7 7 8] [5 3 8 ... 7 7 8]\n",
            "Adam Iteration 330, Accuracy: 0.9645\n",
            "[5 3 8 ... 7 7 8] [5 3 8 ... 7 7 8]\n",
            "Adam Iteration 340, Accuracy: 0.9657\n",
            "[5 3 8 ... 7 7 8] [5 3 8 ... 7 7 8]\n",
            "Adam Iteration 350, Accuracy: 0.9671\n",
            "[5 3 1 ... 7 7 8] [5 3 8 ... 7 7 8]\n",
            "Adam Iteration 360, Accuracy: 0.9681\n",
            "[5 3 1 ... 7 7 8] [5 3 8 ... 7 7 8]\n",
            "Adam Iteration 370, Accuracy: 0.9692\n",
            "[5 3 1 ... 7 7 8] [5 3 8 ... 7 7 8]\n",
            "Adam Iteration 380, Accuracy: 0.9701\n",
            "[5 3 1 ... 7 7 8] [5 3 8 ... 7 7 8]\n",
            "Adam Iteration 390, Accuracy: 0.9710\n",
            "[5 3 1 ... 7 7 8] [5 3 8 ... 7 7 8]\n",
            "Adam Iteration 400, Accuracy: 0.9720\n",
            "[5 3 1 ... 7 7 8] [5 3 8 ... 7 7 8]\n",
            "Adam Iteration 410, Accuracy: 0.9734\n",
            "[5 3 1 ... 7 7 8] [5 3 8 ... 7 7 8]\n",
            "Adam Iteration 420, Accuracy: 0.9744\n",
            "[5 3 1 ... 7 7 8] [5 3 8 ... 7 7 8]\n",
            "Adam Iteration 430, Accuracy: 0.9755\n",
            "[5 3 1 ... 7 7 8] [5 3 8 ... 7 7 8]\n",
            "Adam Iteration 440, Accuracy: 0.9763\n",
            "[5 3 1 ... 7 7 8] [5 3 8 ... 7 7 8]\n",
            "Adam Iteration 450, Accuracy: 0.9773\n",
            "[5 3 1 ... 7 7 8] [5 3 8 ... 7 7 8]\n",
            "Adam Iteration 460, Accuracy: 0.9778\n",
            "[5 3 1 ... 7 7 8] [5 3 8 ... 7 7 8]\n",
            "Adam Iteration 470, Accuracy: 0.9785\n",
            "[5 3 1 ... 7 7 8] [5 3 8 ... 7 7 8]\n",
            "Adam Iteration 480, Accuracy: 0.9792\n",
            "[5 3 1 ... 7 7 8] [5 3 8 ... 7 7 8]\n",
            "Adam Iteration 490, Accuracy: 0.9797\n",
            "[5 3 1 ... 7 7 8] [5 3 8 ... 7 7 8]\n",
            "Adam Iteration 500, Accuracy: 0.9803\n",
            "[5 3 1 ... 7 7 8] [5 3 8 ... 7 7 8]\n",
            "Adam Iteration 510, Accuracy: 0.9810\n"
          ]
        }
      ],
      "execution_count": 18
    },
    {
      "cell_type": "markdown",
      "source": [
        "# **Test**"
      ],
      "metadata": {
        "id": "f9IZ7JrzuaC5"
      }
    },
    {
      "source": [
        "test_prediction(0, W1_adam, b1_adam, W2_adam, b2_adam) # Use weights from adam_optimizer\n",
        "test_prediction(1, W1_adam, b1_adam, W2_adam, b2_adam)\n",
        "test_prediction(4, W1_adam, b1_adam, W2_adam, b2_adam)\n",
        "test_prediction(3, W1_adam, b1_adam, W2_adam, b2_adam)"
      ],
      "cell_type": "code",
      "metadata": {
        "id": "BGWRmtDc2Myd",
        "outputId": "651e9c47-c75a-4b6e-bd07-5b763c22ce9e",
        "colab": {
          "base_uri": "https://localhost:8080/",
          "height": 1000
        }
      },
      "execution_count": 21,
      "outputs": [
        {
          "output_type": "stream",
          "name": "stdout",
          "text": [
            "Prediction:  [5]\n",
            "Label:  5\n"
          ]
        },
        {
          "output_type": "display_data",
          "data": {
            "text/plain": [
              "<Figure size 640x480 with 1 Axes>"
            ],
            "image/png": "[encoded data removed]"
          },
          "metadata": {}
        },
        {
          "output_type": "stream",
          "name": "stdout",
          "text": [
            "Prediction:  [3]\n",
            "Label:  3\n"
          ]
        },
        {
          "output_type": "display_data",
          "data": {
            "text/plain": [
              "<Figure size 640x480 with 1 Axes>"
            ],
            "image/png": "[encoded data removed]"
          },
          "metadata": {}
        },
        {
          "output_type": "stream",
          "name": "stdout",
          "text": [
            "Prediction:  [0]\n",
            "Label:  0\n"
          ]
        },
        {
          "output_type": "display_data",
          "data": {
            "text/plain": [
              "<Figure size 640x480 with 1 Axes>"
            ],
            "image/png": "[encoded data removed]"
          },
          "metadata": {}
        },
        {
          "output_type": "stream",
          "name": "stdout",
          "text": [
            "Prediction:  [2]\n",
            "Label:  3\n"
          ]
        },
        {
          "output_type": "display_data",
          "data": {
            "text/plain": [
              "<Figure size 640x480 with 1 Axes>"
            ],
            "image/png": "[encoded data removed]"
          },
          "metadata": {}
        }
      ]
    },
    {
      "cell_type": "code",
      "source": [],
      "metadata": {
        "trusted": true,
        "id": "G-E5ShUKuaC5"
      },
      "outputs": [],
      "execution_count": null
    }
  ]
}